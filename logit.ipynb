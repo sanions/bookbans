{
 "cells": [
  {
   "cell_type": "code",
   "execution_count": 1,
   "metadata": {},
   "outputs": [],
   "source": [
    "import numpy as np\n",
    "import pandas as pd\n",
    "from sklearn.model_selection import train_test_split\n",
    "from sklearn.linear_model import LogisticRegression\n",
    "from sklearn import metrics\n",
    "from sklearn.preprocessing import StandardScaler\n",
    "import statsmodels.api as sm\n",
    "\n",
    "from sklearn.linear_model import LinearRegression\n",
    "import matplotlib.pyplot as plt\n",
    "from sklearn.metrics import r2_score\n",
    "\n"
   ]
  },
  {
   "cell_type": "code",
   "execution_count": 3,
   "metadata": {},
   "outputs": [
    {
     "data": {
      "text/plain": [
       "Index(['Unnamed: 0', 'LEA_STATE_NAME', 'LEAID', 'LEA_NAME', 'banned_books',\n",
       "       'LEA_ENR', 'SCH_FTETEACH_TOT', 'SATACT_P', 'APENR_P', 'P_EXPULSIONS',\n",
       "       'TOT_DIS_HB', 'TOT_RAC_HB', 'TOT_SEX_HB', 'NMCNTY',\n",
       "       'Median Household Income', 'PVI_parsed', 'County Name',\n",
       "       'Catholic Church', 'Non-Religious',\n",
       "       'Non-denominational Christian Churches', 'Southern Baptist Convention',\n",
       "       'United Methodist Church'],\n",
       "      dtype='object')"
      ]
     },
     "execution_count": 3,
     "metadata": {},
     "output_type": "execute_result"
    }
   ],
   "source": [
    "data = pd.read_csv(\"final_florida_df.csv\")\n",
    "# data[\"number_bans\"] = data[\"number_bans\"].fillna(0)\n",
    "\n",
    "data.columns"
   ]
  },
  {
   "cell_type": "code",
   "execution_count": 10,
   "metadata": {},
   "outputs": [
    {
     "name": "stdout",
     "output_type": "stream",
     "text": [
      "Optimization terminated successfully    (Exit mode 0)\n",
      "            Current function value: 0.45357239574857483\n",
      "            Iterations: 51\n",
      "            Function evaluations: 51\n",
      "            Gradient evaluations: 51\n",
      "                           Logit Regression Results                           \n",
      "==============================================================================\n",
      "Dep. Variable:           banned_books   No. Observations:                   64\n",
      "Model:                          Logit   Df Residuals:                       52\n",
      "Method:                           MLE   Df Model:                           11\n",
      "Date:                Tue, 12 Dec 2023   Pseudo R-squ.:                  0.3055\n",
      "Time:                        21:53:38   Log-Likelihood:                -29.029\n",
      "converged:                       True   LL-Null:                       -41.796\n",
      "Covariance Type:            nonrobust   LLR p-value:                  0.007609\n",
      "=========================================================================================================\n",
      "                                            coef    std err          z      P>|z|      [0.025      0.975]\n",
      "---------------------------------------------------------------------------------------------------------\n",
      "LEA_ENR                                   1.7271      0.750      2.302      0.021       0.257       3.198\n",
      "SCH_FTETEACH_TOT                          0.7119      0.531      1.341      0.180      -0.328       1.752\n",
      "SATACT_P                                  0.6133      0.491      1.250      0.211      -0.348       1.575\n",
      "APENR_P                                  -0.0987      0.519     -0.190      0.849      -1.115       0.918\n",
      "P_EXPULSIONS                              0.5264      0.365      1.444      0.149      -0.188       1.241\n",
      "Median Household Income                   0.1469      0.406      0.361      0.718      -0.650       0.943\n",
      "PVI_parsed                                0.0492      0.525      0.094      0.925      -0.979       1.078\n",
      "Catholic Church                           0.5928      0.540      1.097      0.272      -0.466       1.651\n",
      "Non-Religious                             0.6178      0.554      1.115      0.265      -0.468       1.703\n",
      "Non-denominational Christian Churches     0.4901      0.490      1.001      0.317      -0.470       1.450\n",
      "Southern Baptist Convention              -0.3330      0.547     -0.609      0.543      -1.405       0.739\n",
      "United Methodist Church                  -0.4269      0.531     -0.804      0.421      -1.467       0.613\n",
      "=========================================================================================================\n"
     ]
    }
   ],
   "source": [
    "# model = LogisticRegression()\n",
    "\n",
    "logit_vars = ['LEA_ENR', 'SCH_FTETEACH_TOT', 'SATACT_P', 'APENR_P', 'P_EXPULSIONS', 'Median Household Income', \n",
    "              'PVI_parsed', \"banned_books\", 'Catholic Church', 'Non-Religious',\n",
    "       'Non-denominational Christian Churches', 'Southern Baptist Convention',\n",
    "       'United Methodist Church']\n",
    "cleaned_data = data[logit_vars].dropna()\n",
    "X = cleaned_data[['LEA_ENR', 'SCH_FTETEACH_TOT', 'SATACT_P', 'APENR_P', 'P_EXPULSIONS', \n",
    "                  'Median Household Income', 'PVI_parsed', 'Catholic Church', 'Non-Religious',\n",
    "       'Non-denominational Christian Churches', 'Southern Baptist Convention',\n",
    "       'United Methodist Church']]\n",
    "y = cleaned_data[\"banned_books\"]\n",
    "\n",
    "scaler = StandardScaler()\n",
    "X_train_scaled = scaler.fit_transform(X)\n",
    "\n",
    "\n",
    "model = sm.Logit(y, X_train_scaled)\n",
    "\n",
    "# Fit the model\n",
    "result = model.fit_regularized()\n",
    "\n",
    "# Display the summary\n",
    "print(result.summary(xname=X.columns.tolist()))\n"
   ]
  },
  {
   "cell_type": "code",
   "execution_count": null,
   "metadata": {},
   "outputs": [],
   "source": []
  },
  {
   "cell_type": "code",
   "execution_count": null,
   "metadata": {},
   "outputs": [],
   "source": []
  },
  {
   "cell_type": "code",
   "execution_count": 28,
   "metadata": {},
   "outputs": [
    {
     "data": {
      "text/plain": [
       "0.049898095787311525"
      ]
     },
     "execution_count": 28,
     "metadata": {},
     "output_type": "execute_result"
    }
   ],
   "source": [
    "model = LinearRegression()\n",
    "\n",
    "\n",
    "dat = data.loc[data[\"number_bans\"] > 0]\n",
    "dat = dat[[\"number_bans\", \"LEA_ENR\"]]\n",
    "dat = dat.dropna()\n",
    "\n",
    "\n",
    "X = dat[[\"LEA_ENR\"]]\n",
    "y = dat[[\"number_bans\"]]\n",
    "\n",
    "model.fit(X, y)\n",
    "y_pred = model.predict(X)\n",
    "\n",
    "r2 = r2_score(y, y_pred)\n",
    "r2"
   ]
  },
  {
   "cell_type": "code",
   "execution_count": 35,
   "metadata": {},
   "outputs": [
    {
     "name": "stdout",
     "output_type": "stream",
     "text": [
      "R-squared: 0.049898095787311525\n"
     ]
    },
    {
     "data": {
      "image/png": "[encoded data removed]",
      "text/plain": [
       "<Figure size 432x288 with 1 Axes>"
      ]
     },
     "metadata": {
      "needs_background": "light"
     },
     "output_type": "display_data"
    }
   ],
   "source": [
    "model = LinearRegression()\n",
    "\n",
    "dat = data.loc[data[\"number_bans\"] > 0]\n",
    "# dat = dat.loc[data[\"number_bans\"] < 200]\n",
    "dat = dat[[\"number_bans\", \"LEA_ENR\"]]\n",
    "dat = dat.dropna()\n",
    "\n",
    "X = dat[[\"LEA_ENR\"]]\n",
    "y = dat[[\"number_bans\"]]\n",
    "\n",
    "model.fit(X, y)\n",
    "y_pred = model.predict(X)\n",
    "\n",
    "r2 = r2_score(y, y_pred)\n",
    "print(f'R-squared: {r2}')\n",
    "\n",
    "plt.scatter(X[\"LEA_ENR\"], y[\"number_bans\"], label='Original Data')\n",
    "plt.plot(X[\"LEA_ENR\"], y_pred, 'r-', label='Regression Line')\n",
    "plt.xlabel('Total enrollment')\n",
    "plt.ylabel('number_bans')\n",
    "plt.legend()\n",
    "plt.show()"
   ]
  },
  {
   "cell_type": "code",
   "execution_count": null,
   "metadata": {},
   "outputs": [],
   "source": []
  }
 ],
 "metadata": {
  "kernelspec": {
   "display_name": "Python 3",
   "language": "python",
   "name": "python3"
  },
  "language_info": {
   "codemirror_mode": {
    "name": "ipython",
    "version": 3
   },
   "file_extension": ".py",
   "mimetype": "text/x-python",
   "name": "python",
   "nbconvert_exporter": "python",
   "pygments_lexer": "ipython3",
   "version": "3.9.1"
  },
  "orig_nbformat": 4
 },
 "nbformat": 4,
 "nbformat_minor": 2
}
