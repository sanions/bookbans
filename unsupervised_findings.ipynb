{
 "cells": [
  {
   "cell_type": "code",
   "execution_count": 4,
   "metadata": {},
   "outputs": [],
   "source": [
    "import numpy as np\n",
    "import pandas as pd\n",
    "import warnings\n",
    "warnings.filterwarnings(\"ignore\")"
   ]
  },
  {
   "cell_type": "code",
   "execution_count": 5,
   "metadata": {},
   "outputs": [],
   "source": [
    "# Get all school districts in the US \n",
    "lea = pd.read_csv(\"lea_characteristics.csv\", sep=\",\")\n",
    "\n",
    "# Get our banned books + districts\n",
    "df_school_yr_1 = pd.read_csv(\"PEN_July_1_2021_June_30_2022.csv\", sep=\",\")\n",
    "df_school_yr_2 = pd.read_csv(\"PEN_July_1_2022_December_31_2022.csv\", sep=\",\")\n",
    "books = df_school_yr_1.append(df_school_yr_2)"
   ]
  },
  {
   "cell_type": "code",
   "execution_count": 11,
   "metadata": {},
   "outputs": [],
   "source": [
    "# Create a new binary variable that is \"book bans\" and set true given our \"data\" df\n",
    "books['district_name'] = books['District'].str.lower()\n",
    "lea['district_name'] = lea['LEA_NAME'].str.lower()\n",
    "books[\"STATE\"] = books[\"State\"].str.upper()\n",
    "\n",
    "# Strip of common words\n",
    "common_words = [\"city school district\", \"schools\", \"school\", \"district\", \"public\", \"county\", \n",
    "                \"independent\", \"cisd\", \"isd\", \" sd\", \" co \", \"pblc\", \"schs\", \"high\", \"of\", \n",
    "                \"community\", \"comm\", \"area\", \"the\", \"department\", \"consolidated\", \"  no\",\n",
    "                \"r-iii\", \"r-vii\", \"r-ix\", \"r-iv\", \"r-1\", \"r-i\", \n",
    "                \"0\", \"1\", \"2\", \"3\", \"4\", \"5\", \"6\", \"7\", \"8\", \"9\", \"#\", \"-\", \".\"]\n",
    "\n",
    "for word in common_words: \n",
    "    books['district_name'] = books['district_name'].str.replace(word, \" \").str.strip()\n",
    "    lea['district_name'] = lea['district_name'].str.replace(word, \" \").str.strip()"
   ]
  },
  {
   "cell_type": "code",
   "execution_count": 13,
   "metadata": {},
   "outputs": [
    {
     "name": "stdout",
     "output_type": "stream",
     "text": [
      "0                            INDIAN RIVER\n",
      "1                         Central York SD\n",
      "2                            INDIAN RIVER\n",
      "3        MARLBORO CENTRAL SCHOOL DISTRICT\n",
      "4                      FREDERICKSBURG ISD\n",
      "                      ...                \n",
      "1472            SPOTSYLVANIA CO PBLC SCHS\n",
      "1473            SPOTSYLVANIA CO PBLC SCHS\n",
      "1474            SPOTSYLVANIA CO PBLC SCHS\n",
      "1475    Natrona County School District #1\n",
      "1476    Natrona County School District #1\n",
      "Name: matched_name, Length: 4009, dtype: object\n"
     ]
    }
   ],
   "source": [
    "# make sure they are unique\n",
    "pairs = {}\n",
    "for district in pd.unique(books[\"district_name\"]): \n",
    "    pen_names = books[books[\"district_name\"]==district][[\"STATE\", \"District\"]]\n",
    "    lea_names = lea[lea[\"district_name\"]==district][[\"LEA_STATE_NAME\", \"LEA_NAME\"]]\n",
    "    \n",
    "    for pen_name in pd.unique(pen_names[\"District\"]): \n",
    "        state = pen_names[pen_names[\"District\"] == pen_name][\"STATE\"].values[0]\n",
    "        lea_name = lea_names[lea_names[\"LEA_STATE_NAME\"] == state][\"LEA_NAME\"].values\n",
    "        if len(lea_name) > 0: \n",
    "            lea_name = lea_name[0]\n",
    "            pairs[pen_name] = lea_name\n",
    "\n",
    "outliers_pen_to_lea = {\n",
    "    \"Medford School District 549C\": \"Medford SD 549C\", \n",
    "    \"Virginia Beach City Public Schools\": \"VA BEACH CITY PBLC SCHS\",\n",
    "    \"Harlem School District 122\": \"Harlem UD 122\", \n",
    "    \"Regional School Unit No. 56\": \"RSU 56\", \n",
    "    \"ROWVA CUSD 208\": \"R O W V A CUSD 208\", \n",
    "    \"Cherry Creek School District\": \"Cherry Creek School District No. 5 in the County of Arapaho\", \n",
    "    \"Raytown Quality Schools\": \"RAYTOWN C-2\", \n",
    "    \"Williston Basin School District #7\": \"WILLISTON 1\", \n",
    "    \"Lexington-Richland School District 5\": \"School District 5 of Lexington and Richland Counties\", \n",
    "    \"Madison County Schools\": \"MADISON CO SCHOOL DIST\", \n",
    "}\n",
    "\n",
    "matching_district_names = pairs | outliers_pen_to_lea\n",
    "\n",
    "books['matched_name'] = [matching_district_names.get(d, None) for d in books['District']]"
   ]
  },
  {
   "cell_type": "code",
   "execution_count": 21,
   "metadata": {},
   "outputs": [
    {
     "name": "stdout",
     "output_type": "stream",
     "text": [
      "      LEA_STATE LEA_STATE_NAME    LEAID  \\\n",
      "174          AK         ALASKA   200180   \n",
      "956          AR       ARKANSAS   504590   \n",
      "1083         AR       ARKANSAS   512450   \n",
      "2056         CA     CALIFORNIA   642510   \n",
      "2992         CO       COLORADO   802910   \n",
      "...         ...            ...      ...   \n",
      "17195        WI      WISCONSIN  5502550   \n",
      "17373        WI      WISCONSIN  5510170   \n",
      "17392        WI      WISCONSIN  5510890   \n",
      "17512        WI      WISCONSIN  5515780   \n",
      "17581        WY        WYOMING  5604510   \n",
      "\n",
      "                                                LEA_NAME  \\\n",
      "174                            Anchorage School District   \n",
      "956                               CONWAY SCHOOL DISTRICT   \n",
      "1083                      SILOAM SPRINGS SCHOOL DISTRICT   \n",
      "2056                          William S. Hart Union High   \n",
      "2992   Cherry Creek School District No. 5 in the Coun...   \n",
      "...                                                  ...   \n",
      "17195        Chippewa Falls Area Unified School District   \n",
      "17373                     Muskego-Norway School District   \n",
      "17392                    Oconomowoc Area School District   \n",
      "17512                           Waukesha School District   \n",
      "17581                  Natrona County School District #1   \n",
      "\n",
      "                       LEA_ADDRESS           LEA_CITY LEA_ZIP  CJJ  LEA_ENR  \\\n",
      "174    5530 E Northern Lights Blvd          Anchorage   99504  Yes    47393   \n",
      "956                 2220 PRINCE ST             CONWAY   72034   No    10281   \n",
      "1083                   P O BOX 798     SILOAM SPRINGS   72761   No     4419   \n",
      "2056     21380 Centre Pointe Pkwy.      Santa Clarita   91350   No    23689   \n",
      "2992    4700 SOUTH YOSEMITE STREET  GREENWOOD VILLAGE   80111  Yes    55699   \n",
      "...                            ...                ...     ...  ...      ...   \n",
      "17195                1130 Miles St     Chippewa Falls   54729   No     5153   \n",
      "17373  Educational Services Center            Muskego   53150   No     4900   \n",
      "17392            915 E. Summit Ave         Oconomowoc   53066  Yes     5290   \n",
      "17512                222 Maple Ave           Waukesha   53186  Yes    12902   \n",
      "17581         970 North Glenn Road             Casper   82601  Yes    13272   \n",
      "\n",
      "       LEA_ENR_NONLEAFAC  ...  LEA_PSELIG_IDEA LEA_PSELIG_TITLEI  \\\n",
      "174                    0  ...              Yes               Yes   \n",
      "956                    0  ...               -9                -9   \n",
      "1083                   0  ...               -9                -9   \n",
      "2056                  41  ...               -9                -9   \n",
      "2992                  88  ...               -9                -9   \n",
      "...                  ...  ...              ...               ...   \n",
      "17195                  0  ...               -9                -9   \n",
      "17373                  0  ...               -9                -9   \n",
      "17392                  0  ...              Yes                No   \n",
      "17512                127  ...               -9                -9   \n",
      "17581                107  ...              Yes               Yes   \n",
      "\n",
      "      LEA_PSELIG_LOWINC LEA_KG_IND LEA_KG_FULLDAYFREE LEA_KG_FULLDAYCOST  \\\n",
      "174                 Yes        Yes                Yes                 No   \n",
      "956                  -9        Yes                Yes                 No   \n",
      "1083                 -9        Yes                Yes                 No   \n",
      "2056                 -9         No                 -9                 -9   \n",
      "2992                 -9        Yes                Yes                 No   \n",
      "...                 ...        ...                ...                ...   \n",
      "17195                -9        Yes                Yes                 No   \n",
      "17373                -9        Yes                 No                Yes   \n",
      "17392                No        Yes                Yes                 No   \n",
      "17512                -9        Yes                Yes                 No   \n",
      "17581               Yes        Yes                Yes                 No   \n",
      "\n",
      "      LEA_KG_PARTDAYFREE LEA_KG_PARTDAYCOST  \\\n",
      "174                  Yes                 No   \n",
      "956                   No                 No   \n",
      "1083                  No                 No   \n",
      "2056                  -9                 -9   \n",
      "2992                 Yes                 No   \n",
      "...                  ...                ...   \n",
      "17195                 No                 No   \n",
      "17373                 No                 No   \n",
      "17392                Yes                 No   \n",
      "17512                 No                 No   \n",
      "17581                 No                 No   \n",
      "\n",
      "                              district_name banned_books  \n",
      "174                               anchorage         True  \n",
      "956                                  conway         True  \n",
      "1083                         siloam springs         True  \n",
      "2056                  william s  hart union         True  \n",
      "2992   cherry creek        in       arapaho         True  \n",
      "...                                     ...          ...  \n",
      "17195              chippewa falls   unified         True  \n",
      "17373                        muskego norway         True  \n",
      "17392                            oconomowoc         True  \n",
      "17512                              waukesha         True  \n",
      "17581                               natrona         True  \n",
      "\n",
      "[181 rows x 55 columns]\n"
     ]
    }
   ],
   "source": [
    "# Instead of merging, create a binary variable where a column exists\n",
    "lea[\"banned_books\"] = np.where((lea['LEA_NAME'].isin(books['matched_name'])) & (lea['LEA_STATE_NAME'].isin(books['STATE'])), True, False)\n",
    "\n",
    "# print(lea.loc[lea[\"banned_books\"] == True])"
   ]
  },
  {
   "cell_type": "code",
   "execution_count": 27,
   "metadata": {},
   "outputs": [
    {
     "name": "stdout",
     "output_type": "stream",
     "text": [
      "         LEAID  TOTD912  EBS912  DRP912  TOTDPL  AFGEB  AFGR  TOTOHC\n",
      "0       100002       -4       0    -4.0      -2      5  -2.0      -2\n",
      "1       100005       -3    1052    -3.0     193    278  69.4       9\n",
      "2       100006       -1    1648    -1.0     338    469  72.1      13\n",
      "3       100007       -3    3935    -3.0     900    965  93.3      12\n",
      "4       100008       -3    2886    -3.0     672    674  99.7      13\n",
      "...        ...      ...     ...     ...     ...    ...   ...     ...\n",
      "18434  6600040       -1      -1    -1.0      -1     -1  -1.0      -1\n",
      "18435  6900030       -1      -1    -1.0      -1     -1  -1.0      -1\n",
      "18436  7200030       -9  145172    -9.0   25514  41984  60.8      -2\n",
      "18437  7800002      144    2591     5.6     463     -2  -2.0       0\n",
      "18438  7800030      136    2474     5.5     495   1269  39.0      21\n",
      "\n",
      "[18439 rows x 8 columns]\n"
     ]
    }
   ],
   "source": [
    "# Now we can merge in additional dataframes of interest\n",
    "\n",
    "'''\n",
    "Dropout Count (TOTD912)\n",
    "Enrollment Base (EBS912)\n",
    "Dropout Rate (DRP912)\n",
    "Diploma Counts (TOTDPL)\n",
    "AFGR Enrollment Base Counts (AFGEB)\n",
    "'''\n",
    "\n",
    "# Need a better/more recent dataset\n",
    "\n",
    "lea_academic_success = pd.read_csv(\"lea_academic_success.txt\", delim_whitespace=True)\n",
    "lea_academic_success.drop(columns=[\"SURVYEAR\", \"FIPST\"], inplace=True)"
   ]
  },
  {
   "cell_type": "code",
   "execution_count": 35,
   "metadata": {},
   "outputs": [],
   "source": [
    "# Merge our new academic success DF with our other data on LEAID\n",
    "final_df = lea.merge(lea_academic_success, on='LEAID', how='left', indicator=True)\n",
    "\n",
    "final_df.to_csv(\"test1.csv\")"
   ]
  },
  {
   "cell_type": "code",
   "execution_count": null,
   "metadata": {},
   "outputs": [],
   "source": []
  },
  {
   "cell_type": "code",
   "execution_count": 29,
   "metadata": {},
   "outputs": [
    {
     "data": {
      "text/plain": [
       "17604"
      ]
     },
     "execution_count": 29,
     "metadata": {},
     "output_type": "execute_result"
    }
   ],
   "source": [
    "len(lea)\n"
   ]
  },
  {
   "cell_type": "code",
   "execution_count": 30,
   "metadata": {},
   "outputs": [
    {
     "data": {
      "text/plain": [
       "18439"
      ]
     },
     "execution_count": 30,
     "metadata": {},
     "output_type": "execute_result"
    }
   ],
   "source": [
    "len(lea_academic_success)"
   ]
  }
 ],
 "metadata": {
  "kernelspec": {
   "display_name": "Python 3",
   "language": "python",
   "name": "python3"
  },
  "language_info": {
   "codemirror_mode": {
    "name": "ipython",
    "version": 3
   },
   "file_extension": ".py",
   "mimetype": "text/x-python",
   "name": "python",
   "nbconvert_exporter": "python",
   "pygments_lexer": "ipython3",
   "version": "3.9.1"
  },
  "orig_nbformat": 4
 },
 "nbformat": 4,
 "nbformat_minor": 2
}
